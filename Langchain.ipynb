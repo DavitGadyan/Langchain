{
 "cells": [
  {
   "cell_type": "code",
   "execution_count": 6,
   "id": "f2b9f789",
   "metadata": {},
   "outputs": [
    {
     "name": "stdout",
     "output_type": "stream",
     "text": [
      "Collecting huggingface_hub\n",
      "  Downloading huggingface_hub-0.22.2-py3-none-any.whl.metadata (12 kB)\n",
      "Collecting filelock (from huggingface_hub)\n",
      "  Downloading filelock-3.13.4-py3-none-any.whl.metadata (2.8 kB)\n",
      "Collecting fsspec>=2023.5.0 (from huggingface_hub)\n",
      "  Downloading fsspec-2024.3.1-py3-none-any.whl.metadata (6.8 kB)\n",
      "Requirement already satisfied: packaging>=20.9 in /Users/dyada/.pyenv/versions/3.12.0/lib/python3.12/site-packages (from huggingface_hub) (23.2)\n",
      "Requirement already satisfied: pyyaml>=5.1 in /Users/dyada/.pyenv/versions/3.12.0/lib/python3.12/site-packages (from huggingface_hub) (6.0.1)\n",
      "Requirement already satisfied: requests in /Users/dyada/.pyenv/versions/3.12.0/lib/python3.12/site-packages (from huggingface_hub) (2.31.0)\n",
      "Collecting tqdm>=4.42.1 (from huggingface_hub)\n",
      "  Downloading tqdm-4.66.2-py3-none-any.whl.metadata (57 kB)\n",
      "\u001b[2K     \u001b[90m━━━━━━━━━━━━━━━━━━━━━━━━━━━━━━━━━━━━━━━━\u001b[0m \u001b[32m57.6/57.6 kB\u001b[0m \u001b[31m1.3 MB/s\u001b[0m eta \u001b[36m0:00:00\u001b[0ma \u001b[36m0:00:01\u001b[0m\n",
      "\u001b[?25hRequirement already satisfied: typing-extensions>=3.7.4.3 in /Users/dyada/.pyenv/versions/3.12.0/lib/python3.12/site-packages (from huggingface_hub) (4.11.0)\n",
      "Requirement already satisfied: charset-normalizer<4,>=2 in /Users/dyada/.pyenv/versions/3.12.0/lib/python3.12/site-packages (from requests->huggingface_hub) (3.3.2)\n",
      "Requirement already satisfied: idna<4,>=2.5 in /Users/dyada/.pyenv/versions/3.12.0/lib/python3.12/site-packages (from requests->huggingface_hub) (3.6)\n",
      "Requirement already satisfied: urllib3<3,>=1.21.1 in /Users/dyada/.pyenv/versions/3.12.0/lib/python3.12/site-packages (from requests->huggingface_hub) (2.2.1)\n",
      "Requirement already satisfied: certifi>=2017.4.17 in /Users/dyada/.pyenv/versions/3.12.0/lib/python3.12/site-packages (from requests->huggingface_hub) (2024.2.2)\n",
      "Downloading huggingface_hub-0.22.2-py3-none-any.whl (388 kB)\n",
      "\u001b[2K   \u001b[90m━━━━━━━━━━━━━━━━━━━━━━━━━━━━━━━━━━━━━━━━\u001b[0m \u001b[32m388.9/388.9 kB\u001b[0m \u001b[31m2.1 MB/s\u001b[0m eta \u001b[36m0:00:00\u001b[0ma \u001b[36m0:00:01\u001b[0m\n",
      "\u001b[?25hDownloading fsspec-2024.3.1-py3-none-any.whl (171 kB)\n",
      "\u001b[2K   \u001b[90m━━━━━━━━━━━━━━━━━━━━━━━━━━━━━━━━━━━━━━━━\u001b[0m \u001b[32m172.0/172.0 kB\u001b[0m \u001b[31m1.7 MB/s\u001b[0m eta \u001b[36m0:00:00\u001b[0ma \u001b[36m0:00:01\u001b[0m\n",
      "\u001b[?25hDownloading tqdm-4.66.2-py3-none-any.whl (78 kB)\n",
      "\u001b[2K   \u001b[90m━━━━━━━━━━━━━━━━━━━━━━━━━━━━━━━━━━━━━━━━\u001b[0m \u001b[32m78.3/78.3 kB\u001b[0m \u001b[31m1.7 MB/s\u001b[0m eta \u001b[36m0:00:00\u001b[0ma \u001b[36m0:00:01\u001b[0m\n",
      "\u001b[?25hDownloading filelock-3.13.4-py3-none-any.whl (11 kB)\n",
      "Installing collected packages: tqdm, fsspec, filelock, huggingface_hub\n",
      "Successfully installed filelock-3.13.4 fsspec-2024.3.1 huggingface_hub-0.22.2 tqdm-4.66.2\n"
     ]
    }
   ],
   "source": [
    "! pip install huggingface_hub"
   ]
  },
  {
   "cell_type": "code",
   "execution_count": 2,
   "id": "8d806e58",
   "metadata": {},
   "outputs": [
    {
     "name": "stdout",
     "output_type": "stream",
     "text": [
      "Requirement already satisfied: langchain in /Users/dyada/.pyenv/versions/3.12.0/lib/python3.12/site-packages (0.1.0)\n",
      "Collecting langchain\n",
      "  Using cached langchain-0.1.16-py3-none-any.whl.metadata (13 kB)\n",
      "Requirement already satisfied: PyYAML>=5.3 in /Users/dyada/.pyenv/versions/3.12.0/lib/python3.12/site-packages (from langchain) (6.0.1)\n",
      "Requirement already satisfied: SQLAlchemy<3,>=1.4 in /Users/dyada/.pyenv/versions/3.12.0/lib/python3.12/site-packages (from langchain) (2.0.29)\n",
      "Requirement already satisfied: aiohttp<4.0.0,>=3.8.3 in /Users/dyada/.pyenv/versions/3.12.0/lib/python3.12/site-packages (from langchain) (3.9.3)\n",
      "Requirement already satisfied: dataclasses-json<0.7,>=0.5.7 in /Users/dyada/.pyenv/versions/3.12.0/lib/python3.12/site-packages (from langchain) (0.6.4)\n",
      "Requirement already satisfied: jsonpatch<2.0,>=1.33 in /Users/dyada/.pyenv/versions/3.12.0/lib/python3.12/site-packages (from langchain) (1.33)\n",
      "Collecting langchain-community<0.1,>=0.0.32 (from langchain)\n",
      "  Using cached langchain_community-0.0.32-py3-none-any.whl.metadata (8.5 kB)\n",
      "Collecting langchain-core<0.2.0,>=0.1.42 (from langchain)\n",
      "  Using cached langchain_core-0.1.42-py3-none-any.whl.metadata (5.9 kB)\n",
      "Requirement already satisfied: langchain-text-splitters<0.1,>=0.0.1 in /Users/dyada/.pyenv/versions/3.12.0/lib/python3.12/site-packages (from langchain) (0.0.1)\n",
      "Collecting langsmith<0.2.0,>=0.1.17 (from langchain)\n",
      "  Using cached langsmith-0.1.47-py3-none-any.whl.metadata (13 kB)\n",
      "Requirement already satisfied: numpy<2,>=1 in /Users/dyada/.pyenv/versions/3.12.0/lib/python3.12/site-packages (from langchain) (1.26.4)\n",
      "Requirement already satisfied: pydantic<3,>=1 in /Users/dyada/.pyenv/versions/3.12.0/lib/python3.12/site-packages (from langchain) (2.7.0)\n",
      "Requirement already satisfied: requests<3,>=2 in /Users/dyada/.pyenv/versions/3.12.0/lib/python3.12/site-packages (from langchain) (2.31.0)\n",
      "Requirement already satisfied: tenacity<9.0.0,>=8.1.0 in /Users/dyada/.pyenv/versions/3.12.0/lib/python3.12/site-packages (from langchain) (8.2.3)\n",
      "Requirement already satisfied: aiosignal>=1.1.2 in /Users/dyada/.pyenv/versions/3.12.0/lib/python3.12/site-packages (from aiohttp<4.0.0,>=3.8.3->langchain) (1.3.1)\n",
      "Requirement already satisfied: attrs>=17.3.0 in /Users/dyada/.pyenv/versions/3.12.0/lib/python3.12/site-packages (from aiohttp<4.0.0,>=3.8.3->langchain) (23.2.0)\n",
      "Requirement already satisfied: frozenlist>=1.1.1 in /Users/dyada/.pyenv/versions/3.12.0/lib/python3.12/site-packages (from aiohttp<4.0.0,>=3.8.3->langchain) (1.4.1)\n",
      "Requirement already satisfied: multidict<7.0,>=4.5 in /Users/dyada/.pyenv/versions/3.12.0/lib/python3.12/site-packages (from aiohttp<4.0.0,>=3.8.3->langchain) (6.0.5)\n",
      "Requirement already satisfied: yarl<2.0,>=1.0 in /Users/dyada/.pyenv/versions/3.12.0/lib/python3.12/site-packages (from aiohttp<4.0.0,>=3.8.3->langchain) (1.9.4)\n",
      "Requirement already satisfied: marshmallow<4.0.0,>=3.18.0 in /Users/dyada/.pyenv/versions/3.12.0/lib/python3.12/site-packages (from dataclasses-json<0.7,>=0.5.7->langchain) (3.21.1)\n",
      "Requirement already satisfied: typing-inspect<1,>=0.4.0 in /Users/dyada/.pyenv/versions/3.12.0/lib/python3.12/site-packages (from dataclasses-json<0.7,>=0.5.7->langchain) (0.9.0)\n",
      "Requirement already satisfied: jsonpointer>=1.9 in /Users/dyada/.pyenv/versions/3.12.0/lib/python3.12/site-packages (from jsonpatch<2.0,>=1.33->langchain) (2.4)\n",
      "Requirement already satisfied: packaging<24.0,>=23.2 in /Users/dyada/.pyenv/versions/3.12.0/lib/python3.12/site-packages (from langchain-core<0.2.0,>=0.1.42->langchain) (23.2)\n",
      "Requirement already satisfied: orjson<4.0.0,>=3.9.14 in /Users/dyada/.pyenv/versions/3.12.0/lib/python3.12/site-packages (from langsmith<0.2.0,>=0.1.17->langchain) (3.10.0)\n",
      "Requirement already satisfied: annotated-types>=0.4.0 in /Users/dyada/.pyenv/versions/3.12.0/lib/python3.12/site-packages (from pydantic<3,>=1->langchain) (0.6.0)\n",
      "Requirement already satisfied: pydantic-core==2.18.1 in /Users/dyada/.pyenv/versions/3.12.0/lib/python3.12/site-packages (from pydantic<3,>=1->langchain) (2.18.1)\n",
      "Requirement already satisfied: typing-extensions>=4.6.1 in /Users/dyada/.pyenv/versions/3.12.0/lib/python3.12/site-packages (from pydantic<3,>=1->langchain) (4.11.0)\n",
      "Requirement already satisfied: charset-normalizer<4,>=2 in /Users/dyada/.pyenv/versions/3.12.0/lib/python3.12/site-packages (from requests<3,>=2->langchain) (3.3.2)\n",
      "Requirement already satisfied: idna<4,>=2.5 in /Users/dyada/.pyenv/versions/3.12.0/lib/python3.12/site-packages (from requests<3,>=2->langchain) (3.6)\n",
      "Requirement already satisfied: urllib3<3,>=1.21.1 in /Users/dyada/.pyenv/versions/3.12.0/lib/python3.12/site-packages (from requests<3,>=2->langchain) (2.2.1)\n",
      "Requirement already satisfied: certifi>=2017.4.17 in /Users/dyada/.pyenv/versions/3.12.0/lib/python3.12/site-packages (from requests<3,>=2->langchain) (2024.2.2)\n",
      "Requirement already satisfied: greenlet!=0.4.17 in /Users/dyada/.pyenv/versions/3.12.0/lib/python3.12/site-packages (from SQLAlchemy<3,>=1.4->langchain) (3.0.3)\n",
      "Requirement already satisfied: mypy-extensions>=0.3.0 in /Users/dyada/.pyenv/versions/3.12.0/lib/python3.12/site-packages (from typing-inspect<1,>=0.4.0->dataclasses-json<0.7,>=0.5.7->langchain) (1.0.0)\n",
      "Using cached langchain-0.1.16-py3-none-any.whl (817 kB)\n",
      "Using cached langchain_community-0.0.32-py3-none-any.whl (1.9 MB)\n",
      "Using cached langchain_core-0.1.42-py3-none-any.whl (287 kB)\n",
      "Using cached langsmith-0.1.47-py3-none-any.whl (113 kB)\n",
      "Installing collected packages: langsmith, langchain-core, langchain-community, langchain\n",
      "  Attempting uninstall: langsmith\n",
      "    Found existing installation: langsmith 0.0.87\n",
      "    Uninstalling langsmith-0.0.87:\n",
      "      Successfully uninstalled langsmith-0.0.87\n",
      "  Attempting uninstall: langchain-core\n",
      "    Found existing installation: langchain-core 0.1.23\n",
      "    Uninstalling langchain-core-0.1.23:\n",
      "      Successfully uninstalled langchain-core-0.1.23\n",
      "  Attempting uninstall: langchain-community\n",
      "    Found existing installation: langchain-community 0.0.20\n",
      "    Uninstalling langchain-community-0.0.20:\n",
      "      Successfully uninstalled langchain-community-0.0.20\n",
      "  Attempting uninstall: langchain\n",
      "    Found existing installation: langchain 0.1.0\n",
      "    Uninstalling langchain-0.1.0:\n",
      "      Successfully uninstalled langchain-0.1.0\n",
      "Successfully installed langchain-0.1.16 langchain-community-0.0.32 langchain-core-0.1.42 langsmith-0.1.47\n"
     ]
    }
   ],
   "source": [
    "! pip install --upgrade langchain"
   ]
  },
  {
   "cell_type": "code",
   "execution_count": 3,
   "id": "3f533e78",
   "metadata": {},
   "outputs": [
    {
     "name": "stdout",
     "output_type": "stream",
     "text": [
      "Package                  Version\n",
      "------------------------ -----------\n",
      "aiofiles                 23.2.1\n",
      "aiohttp                  3.9.3\n",
      "aiosignal                1.3.1\n",
      "annotated-types          0.6.0\n",
      "anyio                    4.3.0\n",
      "appnope                  0.1.4\n",
      "appopener                1.6\n",
      "asttokens                2.4.1\n",
      "attrs                    23.2.0\n",
      "certifi                  2024.2.2\n",
      "charset-normalizer       3.3.2\n",
      "comm                     0.2.2\n",
      "dataclasses-json         0.6.4\n",
      "debugpy                  1.8.1\n",
      "decorator                5.1.1\n",
      "deepgram-sdk             3.2.5\n",
      "executing                2.0.1\n",
      "frozenlist               1.4.1\n",
      "greenlet                 3.0.3\n",
      "h11                      0.14.0\n",
      "httpcore                 1.0.5\n",
      "httpx                    0.27.0\n",
      "idna                     3.6\n",
      "ipykernel                6.29.4\n",
      "ipython                  8.23.0\n",
      "jedi                     0.19.1\n",
      "jsonpatch                1.33\n",
      "jsonpointer              2.4\n",
      "jupyter_client           8.6.1\n",
      "jupyter_core             5.7.2\n",
      "langchain                0.1.16\n",
      "langchain-community      0.0.32\n",
      "langchain-core           0.1.42\n",
      "langchain-text-splitters 0.0.1\n",
      "langsmith                0.1.47\n",
      "marshmallow              3.21.1\n",
      "matplotlib-inline        0.1.6\n",
      "multidict                6.0.5\n",
      "mypy-extensions          1.0.0\n",
      "nest-asyncio             1.6.0\n",
      "numpy                    1.26.4\n",
      "orjson                   3.10.0\n",
      "packaging                23.2\n",
      "parso                    0.8.4\n",
      "pexpect                  4.9.0\n",
      "pip                      24.0\n",
      "platformdirs             4.2.0\n",
      "prompt-toolkit           3.0.43\n",
      "psutil                   5.9.8\n",
      "ptyprocess               0.7.0\n",
      "pure-eval                0.2.2\n",
      "PyAudio                  0.2.14\n",
      "pydantic                 2.7.0\n",
      "pydantic_core            2.18.1\n",
      "Pygments                 2.17.2\n",
      "python-dateutil          2.9.0.post0\n",
      "python-dotenv            1.0.1\n",
      "PyYAML                   6.0.1\n",
      "pyzmq                    25.1.2\n",
      "requests                 2.31.0\n",
      "six                      1.16.0\n",
      "sniffio                  1.3.1\n",
      "SQLAlchemy               2.0.29\n",
      "stack-data               0.6.3\n",
      "tenacity                 8.2.3\n",
      "tornado                  6.4\n",
      "traitlets                5.14.2\n",
      "typing_extensions        4.11.0\n",
      "typing-inspect           0.9.0\n",
      "urllib3                  2.2.1\n",
      "verboselogs              1.7\n",
      "wcwidth                  0.2.13\n",
      "websockets               12.0\n",
      "wheel                    0.43.0\n",
      "yarl                     1.9.4\n"
     ]
    }
   ],
   "source": [
    "!pip list"
   ]
  },
  {
   "cell_type": "code",
   "execution_count": 4,
   "id": "fc2a0c80",
   "metadata": {},
   "outputs": [],
   "source": []
  },
  {
   "cell_type": "code",
   "execution_count": 9,
   "id": "158bfd48",
   "metadata": {},
   "outputs": [],
   "source": [
    "import os\n",
    "import yaml"
   ]
  },
  {
   "cell_type": "code",
   "execution_count": 19,
   "id": "52fde382",
   "metadata": {},
   "outputs": [],
   "source": [
    "import yaml\n",
    "with open('creds.yaml') as f:\n",
    "    creds = yaml.safe_load(f)"
   ]
  },
  {
   "cell_type": "code",
   "execution_count": 28,
   "id": "0af621db",
   "metadata": {},
   "outputs": [
    {
     "name": "stdout",
     "output_type": "stream",
     "text": [
      "Whatever you do, take care of your shoes.\n",
      "I'm a big fan of the \"take care of your shoes\" philosophy. I've had a lot of shoes in my life, and I've learned that if you take care of them, they will take care of you.\n",
      "I've had a lot of shoes in my life, and I've learned that if you take care of them, they will take care of you.\n",
      "I've had a lot of shoes in my life, and I\n"
     ]
    }
   ],
   "source": [
    "from langchain_community.llms import HuggingFaceHub\n",
    "\n",
    "# Set your Hugging Face API token \n",
    "huggingfacehub_api_token = creds[\"HUGGING_FACE_TOKEN\"]\n",
    "\n",
    "# Define the LLM\n",
    "llm = HuggingFaceHub(repo_id='tiiuae/falcon-7b-instruct', huggingfacehub_api_token=huggingfacehub_api_token)\n",
    "\n",
    "# Predict the words following the text in question\n",
    "question = 'Whatever you do, take care of your shoes'\n",
    "output = llm.invoke(question)\n",
    "\n",
    "print(output)"
   ]
  },
  {
   "cell_type": "code",
   "execution_count": 30,
   "id": "a3f30bc6",
   "metadata": {},
   "outputs": [
    {
     "name": "stderr",
     "output_type": "stream",
     "text": [
      "python(53472) MallocStackLogging: can't turn off malloc stack logging because it was not enabled.\n"
     ]
    },
    {
     "name": "stdout",
     "output_type": "stream",
     "text": [
      "Collecting langchain_openai\n",
      "  Downloading langchain_openai-0.1.3-py3-none-any.whl.metadata (2.5 kB)\n",
      "Requirement already satisfied: langchain-core<0.2.0,>=0.1.42 in /Users/dyada/.pyenv/versions/3.12.0/lib/python3.12/site-packages (from langchain_openai) (0.1.42)\n",
      "Collecting openai<2.0.0,>=1.10.0 (from langchain_openai)\n",
      "  Downloading openai-1.17.1-py3-none-any.whl.metadata (21 kB)\n",
      "Collecting tiktoken<1,>=0.5.2 (from langchain_openai)\n",
      "  Downloading tiktoken-0.6.0-cp312-cp312-macosx_10_9_x86_64.whl.metadata (6.6 kB)\n",
      "Requirement already satisfied: PyYAML>=5.3 in /Users/dyada/.pyenv/versions/3.12.0/lib/python3.12/site-packages (from langchain-core<0.2.0,>=0.1.42->langchain_openai) (6.0.1)\n",
      "Requirement already satisfied: jsonpatch<2.0,>=1.33 in /Users/dyada/.pyenv/versions/3.12.0/lib/python3.12/site-packages (from langchain-core<0.2.0,>=0.1.42->langchain_openai) (1.33)\n",
      "Requirement already satisfied: langsmith<0.2.0,>=0.1.0 in /Users/dyada/.pyenv/versions/3.12.0/lib/python3.12/site-packages (from langchain-core<0.2.0,>=0.1.42->langchain_openai) (0.1.47)\n",
      "Requirement already satisfied: packaging<24.0,>=23.2 in /Users/dyada/.pyenv/versions/3.12.0/lib/python3.12/site-packages (from langchain-core<0.2.0,>=0.1.42->langchain_openai) (23.2)\n",
      "Requirement already satisfied: pydantic<3,>=1 in /Users/dyada/.pyenv/versions/3.12.0/lib/python3.12/site-packages (from langchain-core<0.2.0,>=0.1.42->langchain_openai) (2.7.0)\n",
      "Requirement already satisfied: tenacity<9.0.0,>=8.1.0 in /Users/dyada/.pyenv/versions/3.12.0/lib/python3.12/site-packages (from langchain-core<0.2.0,>=0.1.42->langchain_openai) (8.2.3)\n",
      "Requirement already satisfied: anyio<5,>=3.5.0 in /Users/dyada/.pyenv/versions/3.12.0/lib/python3.12/site-packages (from openai<2.0.0,>=1.10.0->langchain_openai) (4.3.0)\n",
      "Collecting distro<2,>=1.7.0 (from openai<2.0.0,>=1.10.0->langchain_openai)\n",
      "  Downloading distro-1.9.0-py3-none-any.whl.metadata (6.8 kB)\n",
      "Requirement already satisfied: httpx<1,>=0.23.0 in /Users/dyada/.pyenv/versions/3.12.0/lib/python3.12/site-packages (from openai<2.0.0,>=1.10.0->langchain_openai) (0.27.0)\n",
      "Requirement already satisfied: sniffio in /Users/dyada/.pyenv/versions/3.12.0/lib/python3.12/site-packages (from openai<2.0.0,>=1.10.0->langchain_openai) (1.3.1)\n",
      "Requirement already satisfied: tqdm>4 in /Users/dyada/.pyenv/versions/3.12.0/lib/python3.12/site-packages (from openai<2.0.0,>=1.10.0->langchain_openai) (4.66.2)\n",
      "Requirement already satisfied: typing-extensions<5,>=4.7 in /Users/dyada/.pyenv/versions/3.12.0/lib/python3.12/site-packages (from openai<2.0.0,>=1.10.0->langchain_openai) (4.11.0)\n",
      "Collecting regex>=2022.1.18 (from tiktoken<1,>=0.5.2->langchain_openai)\n",
      "  Downloading regex-2023.12.25-cp312-cp312-macosx_10_9_x86_64.whl.metadata (40 kB)\n",
      "\u001b[2K     \u001b[90m━━━━━━━━━━━━━━━━━━━━━━━━━━━━━━━━━━━━━━━━\u001b[0m \u001b[32m40.9/40.9 kB\u001b[0m \u001b[31m1.2 MB/s\u001b[0m eta \u001b[36m0:00:00\u001b[0m\n",
      "\u001b[?25hRequirement already satisfied: requests>=2.26.0 in /Users/dyada/.pyenv/versions/3.12.0/lib/python3.12/site-packages (from tiktoken<1,>=0.5.2->langchain_openai) (2.31.0)\n",
      "Requirement already satisfied: idna>=2.8 in /Users/dyada/.pyenv/versions/3.12.0/lib/python3.12/site-packages (from anyio<5,>=3.5.0->openai<2.0.0,>=1.10.0->langchain_openai) (3.6)\n",
      "Requirement already satisfied: certifi in /Users/dyada/.pyenv/versions/3.12.0/lib/python3.12/site-packages (from httpx<1,>=0.23.0->openai<2.0.0,>=1.10.0->langchain_openai) (2024.2.2)\n",
      "Requirement already satisfied: httpcore==1.* in /Users/dyada/.pyenv/versions/3.12.0/lib/python3.12/site-packages (from httpx<1,>=0.23.0->openai<2.0.0,>=1.10.0->langchain_openai) (1.0.5)\n",
      "Requirement already satisfied: h11<0.15,>=0.13 in /Users/dyada/.pyenv/versions/3.12.0/lib/python3.12/site-packages (from httpcore==1.*->httpx<1,>=0.23.0->openai<2.0.0,>=1.10.0->langchain_openai) (0.14.0)\n",
      "Requirement already satisfied: jsonpointer>=1.9 in /Users/dyada/.pyenv/versions/3.12.0/lib/python3.12/site-packages (from jsonpatch<2.0,>=1.33->langchain-core<0.2.0,>=0.1.42->langchain_openai) (2.4)\n",
      "Requirement already satisfied: orjson<4.0.0,>=3.9.14 in /Users/dyada/.pyenv/versions/3.12.0/lib/python3.12/site-packages (from langsmith<0.2.0,>=0.1.0->langchain-core<0.2.0,>=0.1.42->langchain_openai) (3.10.0)\n",
      "Requirement already satisfied: annotated-types>=0.4.0 in /Users/dyada/.pyenv/versions/3.12.0/lib/python3.12/site-packages (from pydantic<3,>=1->langchain-core<0.2.0,>=0.1.42->langchain_openai) (0.6.0)\n",
      "Requirement already satisfied: pydantic-core==2.18.1 in /Users/dyada/.pyenv/versions/3.12.0/lib/python3.12/site-packages (from pydantic<3,>=1->langchain-core<0.2.0,>=0.1.42->langchain_openai) (2.18.1)\n",
      "Requirement already satisfied: charset-normalizer<4,>=2 in /Users/dyada/.pyenv/versions/3.12.0/lib/python3.12/site-packages (from requests>=2.26.0->tiktoken<1,>=0.5.2->langchain_openai) (3.3.2)\n",
      "Requirement already satisfied: urllib3<3,>=1.21.1 in /Users/dyada/.pyenv/versions/3.12.0/lib/python3.12/site-packages (from requests>=2.26.0->tiktoken<1,>=0.5.2->langchain_openai) (2.2.1)\n",
      "Downloading langchain_openai-0.1.3-py3-none-any.whl (33 kB)\n",
      "Downloading openai-1.17.1-py3-none-any.whl (268 kB)\n",
      "\u001b[2K   \u001b[90m━━━━━━━━━━━━━━━━━━━━━━━━━━━━━━━━━━━━━━━━\u001b[0m \u001b[32m268.3/268.3 kB\u001b[0m \u001b[31m2.2 MB/s\u001b[0m eta \u001b[36m0:00:00\u001b[0m00:01\u001b[0m00:01\u001b[0m\n",
      "\u001b[?25hDownloading tiktoken-0.6.0-cp312-cp312-macosx_10_9_x86_64.whl (974 kB)\n",
      "\u001b[2K   \u001b[90m━━━━━━━━━━━━━━━━━━━━━━━━━━━━━━━━━━━━━━━━\u001b[0m \u001b[32m974.7/974.7 kB\u001b[0m \u001b[31m1.7 MB/s\u001b[0m eta \u001b[36m0:00:00\u001b[0m00:01\u001b[0m00:01\u001b[0m\n",
      "\u001b[?25hDownloading distro-1.9.0-py3-none-any.whl (20 kB)\n",
      "Downloading regex-2023.12.25-cp312-cp312-macosx_10_9_x86_64.whl (298 kB)\n",
      "\u001b[2K   \u001b[90m━━━━━━━━━━━━━━━━━━━━━━━━━━━━━━━━━━━━━━━━\u001b[0m \u001b[32m298.1/298.1 kB\u001b[0m \u001b[31m2.1 MB/s\u001b[0m eta \u001b[36m0:00:00\u001b[0m00:01\u001b[0m00:01\u001b[0m\n",
      "\u001b[?25hInstalling collected packages: regex, distro, tiktoken, openai, langchain_openai\n",
      "Successfully installed distro-1.9.0 langchain_openai-0.1.3 openai-1.17.1 regex-2023.12.25 tiktoken-0.6.0\n"
     ]
    }
   ],
   "source": [
    "! pip install langchain_openai"
   ]
  },
  {
   "cell_type": "code",
   "execution_count": 33,
   "id": "0c171c13",
   "metadata": {},
   "outputs": [
    {
     "name": "stderr",
     "output_type": "stream",
     "text": [
      "python(53486) MallocStackLogging: can't turn off malloc stack logging because it was not enabled.\n"
     ]
    },
    {
     "name": "stdout",
     "output_type": "stream",
     "text": [
      ". How your shoes look and feel can greatly impact your overall appearance and confidence. Here are some tips for taking care of your shoes:\n",
      "\n",
      "1. Clean and polish regularly: Regularly clean your shoes with a damp cloth to remove any dirt or debris. Use a shoe polish that matches the color of your shoes to keep them looking shiny and new.\n",
      "\n",
      "2. Rotate your shoes: Wearing the same pair of shoes every day can cause them to wear out quickly. Rotate your shoes and give them a break to prolong their lifespan.\n",
      "\n",
      "3. Invest in shoe trees: Shoe trees help maintain the shape of your shoes and prevent creasing. They also absorb moisture and odor, keeping your shoes fresh.\n",
      "\n",
      "4. Protect from the elements: Use a waterproof spray to protect your shoes from rain and snow. This will also help prevent stains and damage to the material.\n",
      "\n",
      "5. Store them properly: When not in use, store your shoes in a cool, dry place. Avoid leaving them in direct sunlight or in a damp environment, as this can cause them to warp or develop mold.\n",
      "\n",
      "6. Fix any damage immediately: If you notice any scuffs or scratches on your shoes, address them right away. Use a leather conditioner or polish to cover up any marks and prevent them from getting worse.\n",
      "\n",
      "\n"
     ]
    }
   ],
   "source": [
    "from langchain_openai import OpenAI\n",
    "\n",
    "# Set your API Key from OpenAI\n",
    "openai_api_key = creds[\"OPEN_AI_API\"] \n",
    "\n",
    "# Define the LLM\n",
    "llm = OpenAI(model_name=\"gpt-3.5-turbo-instruct\", openai_api_key=openai_api_key)\n",
    "\n",
    "# Predict the words following the text in question\n",
    "question = 'Whatever you do, take care of your shoes'\n",
    "output = llm.invoke(question)\n",
    "\n",
    "print(output)"
   ]
  },
  {
   "cell_type": "code",
   "execution_count": null,
   "id": "d7fd4d0f",
   "metadata": {},
   "outputs": [],
   "source": []
  }
 ],
 "metadata": {
  "kernelspec": {
   "display_name": "Python 3.12",
   "language": "python",
   "name": "python3.12"
  },
  "language_info": {
   "codemirror_mode": {
    "name": "ipython",
    "version": 3
   },
   "file_extension": ".py",
   "mimetype": "text/x-python",
   "name": "python",
   "nbconvert_exporter": "python",
   "pygments_lexer": "ipython3",
   "version": "3.12.0"
  }
 },
 "nbformat": 4,
 "nbformat_minor": 5
}
