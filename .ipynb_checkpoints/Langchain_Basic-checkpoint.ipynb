{
 "cells": [
  {
   "cell_type": "code",
   "execution_count": null,
   "id": "75ad4617",
   "metadata": {},
   "outputs": [],
   "source": [
    "import os"
   ]
  },
  {
   "cell_type": "code",
   "execution_count": 31,
   "id": "91d4c09c",
   "metadata": {},
   "outputs": [],
   "source": [
    "from langchain_core.prompts import ChatPromptTemplate\n",
    "from langchain_openai import ChatOpenAI\n",
    "from langchain.schema.output_parser import StrOutputParser"
   ]
  },
  {
   "cell_type": "code",
   "execution_count": 32,
   "id": "4635eac6",
   "metadata": {},
   "outputs": [],
   "source": [
    "llm = ChatOpenAI(model=\"gpt-4o\", api_key=os.environ['OPENAI_API_KEY'], max_tokens=100)"
   ]
  },
  {
   "cell_type": "code",
   "execution_count": 35,
   "id": "d893156d",
   "metadata": {},
   "outputs": [],
   "source": [
    "prompt = ChatPromptTemplate.from_template(template=\"Tell story about {topic} for a {level} student.\")"
   ]
  },
  {
   "cell_type": "code",
   "execution_count": 36,
   "id": "313e64b0",
   "metadata": {},
   "outputs": [],
   "source": [
    "chain = (\n",
    "   prompt\n",
    "  | llm)"
   ]
  },
  {
   "cell_type": "code",
   "execution_count": 38,
   "id": "b0f4b6b1",
   "metadata": {},
   "outputs": [
    {
     "data": {
      "text/plain": [
       "AIMessage(content='Once upon a time in the bustling streets of Victorian London, the renowned detective Sherlock Holmes and his loyal companion Dr. John Watson found themselves entangled in a most curious case—a case that would challenge even the sharpest of minds, including that of a PhD student.\\n\\nOur story begins in the hallowed halls of the University of London, where a brilliant PhD student named Evelyn Carter was conducting groundbreaking research in the field of computational chemistry. Evelyn was on the verge of a major breakthrough, one that', response_metadata={'token_usage': {'completion_tokens': 100, 'prompt_tokens': 18, 'total_tokens': 118}, 'model_name': 'gpt-4o', 'system_fingerprint': 'fp_319be4768e', 'finish_reason': 'length', 'logprobs': None}, id='run-966de48a-3440-4358-a2fd-18fa9afd86c3-0', usage_metadata={'input_tokens': 18, 'output_tokens': 100, 'total_tokens': 118})"
      ]
     },
     "execution_count": 38,
     "metadata": {},
     "output_type": "execute_result"
    }
   ],
   "source": [
    "chain.invoke(input={\"topic\":\"Sherlock Holmes\", \"level\":\"PhD\"})"
   ]
  },
  {
   "cell_type": "code",
   "execution_count": 39,
   "id": "3fab2f6a",
   "metadata": {},
   "outputs": [
    {
     "data": {
      "text/plain": [
       "AIMessage(content=\"Sure! Here's a simple and fun story about Sherlock Holmes for a kindergarten student:\\n\\n---\\n\\nOnce upon a time in the busy city of London, there was a very clever detective named Sherlock Holmes. Sherlock had a funny hat and a magnifying glass, which he used to find clues. He also had a best friend named Dr. Watson, who always helped him solve mysteries.\\n\\nOne sunny morning, Sherlock and Watson received a letter from a little girl named Lily. Lily's favorite toy, a small teddy bear\", response_metadata={'token_usage': {'completion_tokens': 100, 'prompt_tokens': 18, 'total_tokens': 118}, 'model_name': 'gpt-4o', 'system_fingerprint': 'fp_319be4768e', 'finish_reason': 'length', 'logprobs': None}, id='run-bb393cbf-d8fa-4e49-a07b-1ccf367e1716-0', usage_metadata={'input_tokens': 18, 'output_tokens': 100, 'total_tokens': 118})"
      ]
     },
     "execution_count": 39,
     "metadata": {},
     "output_type": "execute_result"
    }
   ],
   "source": [
    "chain.invoke(input={\"topic\":\"Sherlock Holmes\", \"level\":\"kinder garden\"})"
   ]
  },
  {
   "cell_type": "code",
   "execution_count": null,
   "id": "be06da4a",
   "metadata": {},
   "outputs": [],
   "source": []
  }
 ],
 "metadata": {
  "kernelspec": {
   "display_name": "Python 3.12",
   "language": "python",
   "name": "python3.12"
  },
  "language_info": {
   "codemirror_mode": {
    "name": "ipython",
    "version": 3
   },
   "file_extension": ".py",
   "mimetype": "text/x-python",
   "name": "python",
   "nbconvert_exporter": "python",
   "pygments_lexer": "ipython3",
   "version": "3.12.0"
  }
 },
 "nbformat": 4,
 "nbformat_minor": 5
}
